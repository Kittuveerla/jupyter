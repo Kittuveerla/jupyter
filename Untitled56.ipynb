{
 "cells": [
  {
   "cell_type": "code",
   "execution_count": 5,
   "id": "5cebc31c-c2f6-4177-a07c-93c7e328e405",
   "metadata": {},
   "outputs": [
    {
     "name": "stdin",
     "output_type": "stream",
     "text": [
      "Enter number of terms to print:  6\n"
     ]
    },
    {
     "name": "stdout",
     "output_type": "stream",
     "text": [
      "fibonacci series.....\n",
      "0 1 1 2 3 5 "
     ]
    }
   ],
   "source": [
    "# fib on tree recurision 0 1 1 2 3 5 8\n",
    "\n",
    "def fib(n):\n",
    "    if n<=1:\n",
    "        return n\n",
    "    return fib(n-1)+fib(n-2)\n",
    "terms = int(input(\"Enter number of terms to print: \"))\n",
    "print((\"fibonacci series.....\"))\n",
    "for i in range(terms):\n",
    "    print(fib(i), end=' ')"
   ]
  },
  {
   "cell_type": "code",
   "execution_count": 11,
   "id": "4c4f9397-fb7c-4989-9d67-4de68017d361",
   "metadata": {},
   "outputs": [
    {
     "name": "stdin",
     "output_type": "stream",
     "text": [
      "Enter a  name/word:  999\n"
     ]
    },
    {
     "name": "stdout",
     "output_type": "stream",
     "text": [
      "possiabilites  of combinations.....\n",
      "999\n",
      "999\n",
      "999\n",
      "999\n",
      "999\n",
      "999\n"
     ]
    }
   ],
   "source": [
    "'''permuatations of char in tree recursion '''\n",
    "def permute(s, bucket=''):\n",
    "    if not s:\n",
    "       print(bucket)\n",
    "       return\n",
    "    for i in range(len(s)):\n",
    "        ns=s[:i]+s[i+1:]\n",
    "        permute(ns,bucket+s[i])\n",
    "\n",
    "text=input(\"Enter a  name/word: \")\n",
    "print(\"possiabilites  of combinations.....\")\n",
    "permute(text)"
   ]
  },
  {
   "cell_type": "code",
   "execution_count": null,
   "id": "23ed3de3-78d1-4558-b9d3-e1498efdc20d",
   "metadata": {},
   "outputs": [],
   "source": [
    "def binary(n, b=''):\n",
    "    if n==0:\n",
    "        print(b)\n",
    "        return\n",
    "    binary(n-1, b+'0')\n",
    "    binary(n-1, b+'1')\n",
    "\n",
    "\n",
    "length= int(input(\"Enter length of string :\"))\n",
    "print(\"Binary combinations......\")\n",
    "binary(length)"
   ]
  },
  {
   "cell_type": "code",
   "execution_count": null,
   "id": "41eb660e-5d06-4160-9067-be207547ea88",
   "metadata": {},
   "outputs": [],
   "source": []
  },
  {
   "cell_type": "code",
   "execution_count": 25,
   "id": "e11b64fe-0eee-4fea-87ee-2a65971849eb",
   "metadata": {},
   "outputs": [
    {
     "name": "stdin",
     "output_type": "stream",
     "text": [
      "Enter a number: 5\n"
     ]
    },
    {
     "name": "stdout",
     "output_type": "stream",
     "text": [
      "5\n",
      "4\n",
      "3\n",
      "2\n",
      "1\n"
     ]
    }
   ],
   "source": [
    "def head(n):\n",
    "    if n==0:\n",
    "        return\n",
    "    print(n)\n",
    "    head(n-1)\n",
    "\n",
    "num= int(input(\"Enter a number:\"))\n",
    "head(num)\n"
   ]
  },
  {
   "cell_type": "code",
   "execution_count": null,
   "id": "3a96ca0a-be53-4655-8122-ce0988a189fc",
   "metadata": {},
   "outputs": [],
   "source": []
  }
 ],
 "metadata": {
  "kernelspec": {
   "display_name": "Python 3 (ipykernel)",
   "language": "python",
   "name": "python3"
  },
  "language_info": {
   "codemirror_mode": {
    "name": "ipython",
    "version": 3
   },
   "file_extension": ".py",
   "mimetype": "text/x-python",
   "name": "python",
   "nbconvert_exporter": "python",
   "pygments_lexer": "ipython3",
   "version": "3.12.7"
  }
 },
 "nbformat": 4,
 "nbformat_minor": 5
}
