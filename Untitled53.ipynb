{
 "cells": [
  {
   "cell_type": "code",
   "execution_count": 1,
   "id": "d4ba9cde-9809-496c-b669-6a63e33dfb7d",
   "metadata": {},
   "outputs": [],
   "source": [
    "#C:\\Users\\ComputerCenter3\\Desktop\\kittu.txt"
   ]
  },
  {
   "cell_type": "code",
   "execution_count": 5,
   "id": "9aa1f896-75e4-40d4-89a9-9103ba49ffdb",
   "metadata": {},
   "outputs": [],
   "source": [
    "file= open(r\"C:\\Users\\ComputerCenter3\\Desktop\\kittu.txt\",'r')\n",
    "data= file.read()\n",
    "print(r\"C:\\Users\\ComputerCenter3\\Desktop\\kittu.txt\", data)\n",
    "file.close()"
   ]
  },
  {
   "cell_type": "code",
   "execution_count": null,
   "id": "7fc108bb-35fa-4729-9497-d4417a4f8631",
   "metadata": {},
   "outputs": [],
   "source": []
  }
 ],
 "metadata": {
  "kernelspec": {
   "display_name": "Python 3 (ipykernel)",
   "language": "python",
   "name": "python3"
  },
  "language_info": {
   "codemirror_mode": {
    "name": "ipython",
    "version": 3
   },
   "file_extension": ".py",
   "mimetype": "text/x-python",
   "name": "python",
   "nbconvert_exporter": "python",
   "pygments_lexer": "ipython3",
   "version": "3.12.7"
  }
 },
 "nbformat": 4,
 "nbformat_minor": 5
}
